{
  "nbformat": 4,
  "nbformat_minor": 0,
  "metadata": {
    "kernelspec": {
      "display_name": "Python 3",
      "language": "python",
      "name": "python3"
    },
    "language_info": {
      "codemirror_mode": {
        "name": "ipython",
        "version": 3
      },
      "file_extension": ".py",
      "mimetype": "text/x-python",
      "name": "python",
      "nbconvert_exporter": "python",
      "pygments_lexer": "ipython3",
      "version": "3.6.9"
    },
    "colab": {
      "name": "Extract__melspectrogram.ipynb",
      "provenance": [],
      "collapsed_sections": [],
      "include_colab_link": true
    }
  },
  "cells": [
    {
      "cell_type": "markdown",
      "metadata": {
        "id": "view-in-github",
        "colab_type": "text"
      },
      "source": [
        "<a href=\"https://colab.research.google.com/github/codewithAshwani/Text-to-Speech-Generation/blob/main/Extract__melspectrogram.ipynb\" target=\"_parent\"><img src=\"https://colab.research.google.com/assets/colab-badge.svg\" alt=\"Open In Colab\"/></a>"
      ]
    },
    {
      "cell_type": "markdown",
      "metadata": {
        "id": "ZM5VOlAC7xHl"
      },
      "source": [
        "Extract the melspectogram of MNIST digits."
      ]
    },
    {
      "cell_type": "code",
      "metadata": {
        "id": "0U7qLABBtHVP"
      },
      "source": [
        "import os\n",
        "import pickle\n",
        "import librosa\n",
        "import numpy as np\n",
        "import matplotlib.pyplot as plt\n",
        "from pickle import dump\n",
        "from pickle import load\n",
        "import sounddevice as sd\n",
        "import warnings\n",
        "from phonemizer import phonemize\n",
        "warnings.simplefilter(\"ignore\", np.ComplexWarning)\n",
        "FILES_DIR = '/path/recordings/'\n",
        "SPECTROGRAMS_SAVE_DIR = '/path/feature_mel_all.pkl'"
      ],
      "execution_count": null,
      "outputs": []
    },
    {
      "cell_type": "code",
      "metadata": {
        "id": "5ajSt_3crjLK"
      },
      "source": [
        "def text_phonem(word):\n",
        "  word = word.replace('-', '!') \n",
        "  phon_sente = phonemize(word, language='en-us',\n",
        "                             backend='espeak',\n",
        "                             strip=True,\n",
        "                             preserve_punctuation=True,\n",
        "                             with_stress=True,\n",
        "                             njobs=4,\n",
        "                             language_switch='remove-flags')\n",
        "  phon_sente = phon_sente.replace('!','-') \n",
        "  return phon_sente"
      ],
      "execution_count": null,
      "outputs": []
    },
    {
      "cell_type": "code",
      "metadata": {
        "id": "PHOItY5stHVU"
      },
      "source": [
        "##################################\n",
        "#Read the wave file from FILES_DIR\n",
        "#  and extracts spectrograms\n",
        "##########################################\n",
        "def extract(FILES_DIR, pickle_path, SAMPLE_RATE, DURATION, FRAME_SIZE,  HOP_LENGTH, MEL_CHANNELS, win_length):\n",
        "    data = {\n",
        "      \"feauture_mfcc\": [],\n",
        "      \"mapping\": [],\n",
        "      \"phonem\":[]\n",
        "    }\n",
        "    max_db = 100\n",
        "    ref_db = 20\n",
        "    num_samples = int(SAMPLE_RATE*DURATION)\n",
        "    for i,filename in enumerate(os.listdir(FILES_DIR)):\n",
        "            speaker = filename.split(\"_\")[1]\n",
        "            filepath = os.path.join(FILES_DIR, filename)  \n",
        "            signal, _ = librosa.load(filepath, sr=SAMPLE_RATE, duration=DURATION)\n",
        "            signal = librosa.util.normalize(signal)\n",
        "#           signal,_ = librosa.effects.trim(signal, top_db=60, frame_length=FRAME_SIZE, hop_length=HOP_LENGTH) \n",
        "            S = librosa.feature.melspectrogram(y=signal,sr=SAMPLE_RATE, power = 1,win_length=win_length, hop_length=HOP_LENGTH, n_fft=FRAME_SIZE,  n_mels=MEL_CHANNELS,   fmin=0, fmax=None)\n",
        "            mel = 20 * np.log10(np.maximum(1e-5, S))\n",
        "            mel = np.clip((mel - ref_db + max_db) / max_db, 1e-8, 1)\n",
        "            mel = mel.T.astype(np.float32)  # (T, n_mels)\n",
        "            label = filename.split(\"_\")[0]\n",
        "            label = int(label)\n",
        "            data[\"feauture_mfcc\"].append(mel)\n",
        "            if label == 0:\n",
        "                word = 'zero'\n",
        "            if label == 1:\n",
        "                word = 'one'\n",
        "            if label == 2:\n",
        "                word = 'two'\n",
        "            if label == 3:\n",
        "                word = 'three'\n",
        "            if label == 4:\n",
        "                word = 'four'\n",
        "            if label == 5:\n",
        "                word = 'five'\n",
        "            if label == 6:\n",
        "                word = 'six'\n",
        "            if label == 7:\n",
        "                word = 'seven'\n",
        "            if label == 8:\n",
        "                word = 'eight'\n",
        "            if label == 9:\n",
        "                word = 'nine'\n",
        "            phonem_word = text_phonem(word)\n",
        "            data[\"mapping\"].append(word)\n",
        "            data[\"phonem\"].append(phonem_word)\n",
        "    dump(data, open(pickle_path , 'wb'))"
      ],
      "execution_count": null,
      "outputs": []
    },
    {
      "cell_type": "code",
      "metadata": {
        "id": "cumhxkDatHVW"
      },
      "source": [
        "FRAME_SIZE = 1024\n",
        "HOP_LENGTH = 200\n",
        "DURATION = 0.8  # in seconds\n",
        "SAMPLE_RATE = 22050\n",
        "MEL_CHANNELS = 60\n",
        "win_length  =  1011\n",
        "max_db = 100\n",
        "ref_db = 20\n",
        "power = 0.5\n",
        "extract(FILES_DIR, SPECTROGRAMS_SAVE_DIR, SAMPLE_RATE, DURATION, FRAME_SIZE, HOP_LENGTH, MEL_CHANNELS, win_length)"
      ],
      "execution_count": null,
      "outputs": []
    },
    {
      "cell_type": "code",
      "metadata": {
        "id": "CX_lUjCwtHVW"
      },
      "source": [
        "def load_features(filename):\n",
        "    # load all features\n",
        "    data = load(open(filename, 'rb'))\n",
        "\n",
        "    datax = data[\"feauture_mfcc\"]\n",
        "    y = data[\"mapping\"]\n",
        "    phonem = data[\"phonem\"]\n",
        "    x_data = []\n",
        "    for mel in datax:\n",
        "        asd = mel.shape[1]\n",
        "        start_vec = np.ones((1, asd))*0.5\n",
        "        end_vec = np.ones((1, asd))*0.4\n",
        "        norm_mel = np.concatenate([start_vec, mel, end_vec], axis=0)\n",
        "        x_data.append(norm_mel)\n",
        "        \n",
        "    length = [x.shape[0] for x in x_data]\n",
        "    \n",
        "    pad_len = max([x.shape[0] for x in x_data])\n",
        "    # padding to 2 seconds\n",
        "    pad_arr = [np.pad(x, ((0, pad_len), (0, 0)), 'constant', constant_values=(0))[:pad_len, :] for x in x_data]\n",
        "\n",
        "    \n",
        "    return pad_arr,y,phonem, length\n",
        "x,yx, phonem, length = load_features(SPECTROGRAMS_SAVE_DIR)"
      ],
      "execution_count": null,
      "outputs": []
    },
    {
      "cell_type": "code",
      "metadata": {
        "id": "gYkz1u47sAjR"
      },
      "source": [
        "x = np.array(x)\n",
        "x.shape, yx[1], x.max(), x.min()"
      ],
      "execution_count": null,
      "outputs": []
    },
    {
      "cell_type": "code",
      "metadata": {
        "id": "k_gMrzL1tHVZ",
        "outputId": "d36dc6db-2a5f-436c-d3eb-1caee74b274b"
      },
      "source": [
        "####################################\n",
        "#Example of Spectogram\n",
        "####################################\n",
        "plt.matshow(x[1][0:length[1],:].T)\n",
        "plt.colorbar()\n",
        "plt.show()"
      ],
      "execution_count": null,
      "outputs": [
        {
          "output_type": "execute_result",
          "data": {
            "text/plain": [
              "((83, 60), 0.8078133463859558)"
            ]
          },
          "metadata": {
            "tags": []
          },
          "execution_count": 7
        },
        {
          "output_type": "display_data",
          "data": {
            "image/png": "[encoded data removed]",
            "text/plain": [
              "<Figure size 292.8x288 with 2 Axes>"
            ]
          },
          "metadata": {
            "tags": [],
            "needs_background": "light"
          }
        }
      ]
    },
    {
      "cell_type": "code",
      "metadata": {
        "id": "Yy4VNwb-tHVa"
      },
      "source": [
        "#####################################\n",
        "# Using Griffin-Lim reconstruction to convert\n",
        "# mel spectrogram back into a waveform.\n",
        "#####################################\n",
        "def reconstruct_waveform(mel, n_iter=32, rate =1):\n",
        "        \"\"\" Uses Griffin-Lim phase reconstruction to convert from a normalized\n",
        "        mel spectrogram back into a waveform. \"\"\"\n",
        "        amp_mel = mel\n",
        "        S = librosa.feature.inverse.mel_to_stft(\n",
        "            amp_mel,\n",
        "            power=1,\n",
        "            sr=SAMPLE_RATE,\n",
        "            n_fft=FRAME_SIZE,\n",
        "            fmin=0,\n",
        "            fmax=None)\n",
        "        S_slow = librosa.core.phase_vocoder(S, rate=rate, hop_length=HOP_LENGTH)\n",
        "        wav = librosa.core.griffinlim(\n",
        "            S_slow,\n",
        "            n_iter=n_iter,\n",
        "            hop_length=HOP_LENGTH,\n",
        "         win_length=win_length)\n",
        "        return wav, S_slow"
      ],
      "execution_count": null,
      "outputs": []
    },
    {
      "cell_type": "code",
      "metadata": {
        "id": "Gfv4-ZCntHVc",
        "outputId": "351c7a46-9d0b-4511-a64b-aec97c13ac46"
      },
      "source": [
        "####################################\n",
        "#Example to convert Spectrogram to wav\n",
        "#################################### \n",
        "# transpose\n",
        "x1=np.copy(x[:,::1,:])\n",
        "for i in range(4):\n",
        "    mel = x1[i][1:-1,:].T\n",
        "\n",
        "    # de-noramlize\n",
        "    mel = (np.clip(mel, 0, 1) * max_db) - max_db + ref_db\n",
        "\n",
        "    # to amplitude\n",
        "    mel = np.power(10.0, mel * 0.05)\n",
        "\n",
        "    # wav reconstruction\n",
        "    y, S = reconstruct_waveform(mel)\n",
        "    y1=librosa.effects.time_stretch(y, 1)\n",
        "    print(yx[i])\n",
        "    plt.plot(y1)\n",
        "    plt.show()\n",
        "    sd.play(y1, SAMPLE_RATE)\n",
        "    time.sleep(0.5)    "
      ],
      "execution_count": null,
      "outputs": [
        {
          "output_type": "stream",
          "text": [
            "five\n",
            "four\n",
            "nine\n",
            "six\n"
          ],
          "name": "stdout"
        },
        {
          "output_type": "execute_result",
          "data": {
            "text/plain": [
              "(513, 83)"
            ]
          },
          "metadata": {
            "tags": []
          },
          "execution_count": 11
        },
        {
          "output_type": "display_data",
          "data": {
            "image/png": "[encoded data removed]",
            "text/plain": [
              "<Figure size 432x288 with 1 Axes>"
            ]
          },
          "metadata": {
            "tags": [],
            "needs_background": "light"
          }
        }
      ]
    }
  ]
}