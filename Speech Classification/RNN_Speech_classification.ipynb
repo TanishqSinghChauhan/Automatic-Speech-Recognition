{
  "nbformat": 4,
  "nbformat_minor": 0,
  "metadata": {
    "kernelspec": {
      "display_name": "Python 3",
      "language": "python",
      "name": "python3"
    },
    "language_info": {
      "codemirror_mode": {
        "name": "ipython",
        "version": 3
      },
      "file_extension": ".py",
      "mimetype": "text/x-python",
      "name": "python",
      "nbconvert_exporter": "python",
      "pygments_lexer": "ipython3",
      "version": "3.6.9"
    },
    "colab": {
      "name": "RNN_Speech_classification.ipynb",
      "provenance": [],
      "include_colab_link": true
    }
  },
  "cells": [
    {
      "cell_type": "markdown",
      "metadata": {
        "id": "view-in-github",
        "colab_type": "text"
      },
      "source": [
        "<a href=\"https://colab.research.google.com/github/codewithAshwani/MNIST-Speech-classification/blob/main/RNN_Speech_classification.ipynb\" target=\"_parent\"><img src=\"https://colab.research.google.com/assets/colab-badge.svg\" alt=\"Open In Colab\"/></a>"
      ]
    },
    {
      "cell_type": "code",
      "metadata": {
        "id": "3DqDN3GEnIe_"
      },
      "source": [
        "import numpy as np\n",
        "from pickle import dump\n",
        "from pickle import load\n",
        "import matplotlib.pyplot as plt\n",
        "from sklearn.model_selection import train_test_split\n",
        "import tensorflow as tf\n",
        "import tensorflow.keras as keras\n",
        "from sklearn.preprocessing import StandardScaler\n",
        "PICKLE_PATH = \"feature.pkl\""
      ],
      "execution_count": 1,
      "outputs": []
    },
    {
      "cell_type": "code",
      "metadata": {
        "id": "lkx0TJDgnIfR"
      },
      "source": [
        "def load_data(data_path):\n",
        "     #Loads training dataset from data file.\n",
        "     #   :return X (ndarray)\n",
        "     #   :return y (ndarray)\n",
        "\n",
        "\n",
        "    data = load(open(data_path, 'rb'))\n",
        "\n",
        "\n",
        "    # convert lists to numpy arrays\n",
        "    X = np.array(data[\"feauture_mfcc\"])\n",
        "    y = np.array(data[\"labels\"])\n",
        "#    y.astype(int)\n",
        "\n",
        "    print(\"Data succesfully loaded!\")\n",
        "\n",
        "    return  X, y"
      ],
      "execution_count": 2,
      "outputs": []
    },
    {
      "cell_type": "code",
      "metadata": {
        "colab": {
          "base_uri": "https://localhost:8080/"
        },
        "id": "sSDzkwZ4nIfT",
        "outputId": "35daa7bc-f41a-4367-c6ae-b05304c58b24"
      },
      "source": [
        "# load data\n",
        "X, y = load_data(PICKLE_PATH)\n",
        "\n",
        " # create train, validation and test split\n",
        "X_train, X_test, y_train, y_test = train_test_split(X, y, test_size=0.2)\n",
        "X_train, X_validation, y_train, y_validation = train_test_split(X_train, y_train, test_size=0.2)\n",
        "scaler = StandardScaler()\n",
        "X_train = scaler.fit_transform(X_train.reshape(-1, X_train.shape[-1])).reshape(X_train.shape)\n",
        "X_test = scaler.transform(X_test.reshape(-1, X_test.shape[-1])).reshape(X_test.shape)\n",
        "X_validation = scaler.transform(X_validation.reshape(-1, X_validation.shape[-1])).reshape(X_validation.shape)\n",
        "print(X_train.shape,y_train.shape)"
      ],
      "execution_count": 3,
      "outputs": [
        {
          "output_type": "stream",
          "text": [
            "Data succesfully loaded!\n",
            "(1920, 55, 13) (1920,)\n"
          ],
          "name": "stdout"
        }
      ]
    },
    {
      "cell_type": "code",
      "metadata": {
        "colab": {
          "base_uri": "https://localhost:8080/"
        },
        "id": "b5UHTMulnIfV",
        "outputId": "193a032d-3ac9-48f5-f21d-41579ce4177d"
      },
      "source": [
        "input_shape = (X_train.shape[1], X_train.shape[2])\n",
        "input_shape"
      ],
      "execution_count": 4,
      "outputs": [
        {
          "output_type": "execute_result",
          "data": {
            "text/plain": [
              "(55, 13)"
            ]
          },
          "metadata": {
            "tags": []
          },
          "execution_count": 4
        }
      ]
    },
    {
      "cell_type": "code",
      "metadata": {
        "colab": {
          "base_uri": "https://localhost:8080/"
        },
        "id": "eTzBkF2UnIfY",
        "outputId": "e759fac7-b5aa-4353-cca0-dabf2e48416b"
      },
      "source": [
        "model = tf.keras.models.Sequential([\n",
        "    tf.keras.layers.LSTM(128, input_shape=input_shape, return_sequences=True),\n",
        "    tf.keras.layers.LSTM(128),\n",
        "    tf.keras.layers.Dense(128, activation='relu', kernel_regularizer=tf.keras.regularizers.l2(0.001)),\n",
        "    tf.keras.layers.Dense(10, activation='softmax')\n",
        "])\n",
        "\n",
        "loss = tf.keras.losses.SparseCategoricalCrossentropy()\n",
        "optim = tf.keras.optimizers.Adam(lr=0.001)\n",
        "metrics = [\"accuracy\"]\n",
        "model.compile(loss=loss, optimizer=optim, metrics=metrics)\n",
        "\n",
        "model.summary()"
      ],
      "execution_count": 5,
      "outputs": [
        {
          "output_type": "stream",
          "text": [
            "Model: \"sequential\"\n",
            "_________________________________________________________________\n",
            "Layer (type)                 Output Shape              Param #   \n",
            "=================================================================\n",
            "lstm (LSTM)                  (None, 55, 128)           72704     \n",
            "_________________________________________________________________\n",
            "lstm_1 (LSTM)                (None, 128)               131584    \n",
            "_________________________________________________________________\n",
            "dense (Dense)                (None, 128)               16512     \n",
            "_________________________________________________________________\n",
            "dense_1 (Dense)              (None, 10)                1290      \n",
            "=================================================================\n",
            "Total params: 222,090\n",
            "Trainable params: 222,090\n",
            "Non-trainable params: 0\n",
            "_________________________________________________________________\n"
          ],
          "name": "stdout"
        }
      ]
    },
    {
      "cell_type": "code",
      "metadata": {
        "colab": {
          "base_uri": "https://localhost:8080/"
        },
        "id": "7A4eFcOHnIfb",
        "outputId": "675bbafb-f875-4e17-b709-a5d747f72185"
      },
      "source": [
        "# train model\n",
        "history = model.fit(X_train, y_train, validation_data=(X_validation, y_validation), batch_size=32, epochs=10, verbose=2)"
      ],
      "execution_count": 6,
      "outputs": [
        {
          "output_type": "stream",
          "text": [
            "Epoch 1/10\n",
            "60/60 - 13s - loss: 1.5748 - accuracy: 0.4974 - val_loss: 0.8525 - val_accuracy: 0.7437\n",
            "Epoch 2/10\n",
            "60/60 - 8s - loss: 0.6149 - accuracy: 0.8365 - val_loss: 0.4404 - val_accuracy: 0.9062\n",
            "Epoch 3/10\n",
            "60/60 - 7s - loss: 0.4289 - accuracy: 0.9083 - val_loss: 0.3219 - val_accuracy: 0.9479\n",
            "Epoch 4/10\n",
            "60/60 - 7s - loss: 0.2740 - accuracy: 0.9521 - val_loss: 0.2761 - val_accuracy: 0.9563\n",
            "Epoch 5/10\n",
            "60/60 - 7s - loss: 0.2095 - accuracy: 0.9750 - val_loss: 0.2845 - val_accuracy: 0.9583\n",
            "Epoch 6/10\n",
            "60/60 - 7s - loss: 0.2214 - accuracy: 0.9682 - val_loss: 0.2427 - val_accuracy: 0.9688\n",
            "Epoch 7/10\n",
            "60/60 - 7s - loss: 0.1871 - accuracy: 0.9740 - val_loss: 0.2720 - val_accuracy: 0.9396\n",
            "Epoch 8/10\n",
            "60/60 - 7s - loss: 0.2049 - accuracy: 0.9661 - val_loss: 0.2669 - val_accuracy: 0.9458\n",
            "Epoch 9/10\n",
            "60/60 - 7s - loss: 0.1505 - accuracy: 0.9807 - val_loss: 0.1679 - val_accuracy: 0.9771\n",
            "Epoch 10/10\n",
            "60/60 - 7s - loss: 0.1465 - accuracy: 0.9797 - val_loss: 0.1507 - val_accuracy: 0.9812\n"
          ],
          "name": "stdout"
        }
      ]
    },
    {
      "cell_type": "code",
      "metadata": {
        "colab": {
          "base_uri": "https://localhost:8080/",
          "height": 269
        },
        "id": "S8HAu8ONnIfe",
        "outputId": "34721bb4-2bec-4d78-c6a3-63848a3d7ff7"
      },
      "source": [
        "def plot_loss(history):\n",
        "    plt.plot(history.history['accuracy'], label='loss')\n",
        "    plt.plot(history.history['val_accuracy'], label='val_loss')\n",
        "    plt.ylim([0.0, 1])\n",
        "    plt.legend()\n",
        "    plt.grid(True)\n",
        "plot_loss(history)"
      ],
      "execution_count": 7,
      "outputs": [
        {
          "output_type": "display_data",
          "data": {
            "image/png": "[encoded data removed]",
            "text/plain": [
              "<Figure size 432x288 with 1 Axes>"
            ]
          },
          "metadata": {
            "tags": [],
            "needs_background": "light"
          }
        }
      ]
    },
    {
      "cell_type": "code",
      "metadata": {
        "colab": {
          "base_uri": "https://localhost:8080/"
        },
        "id": "vIkpyMQJnIfg",
        "outputId": "97245aba-109f-4b1f-de7c-0961063d3db0"
      },
      "source": [
        "score, acc = model.evaluate(X_test,y_test)\n",
        "print('Test score:', score)\n",
        "print('Test accuracy:', acc)"
      ],
      "execution_count": 8,
      "outputs": [
        {
          "output_type": "stream",
          "text": [
            "19/19 [==============================] - 2s 37ms/step - loss: 0.2048 - accuracy: 0.9650\n",
            "Test score: 0.2048313468694687\n",
            "Test accuracy: 0.9649999737739563\n"
          ],
          "name": "stdout"
        }
      ]
    },
    {
      "cell_type": "code",
      "metadata": {
        "id": "MXmPVTkEnIfh"
      },
      "source": [
        "y_predic = np.argmax(model.predict(X_test), axis=1)"
      ],
      "execution_count": 9,
      "outputs": []
    },
    {
      "cell_type": "code",
      "metadata": {
        "colab": {
          "base_uri": "https://localhost:8080/"
        },
        "id": "M9oskQoonIfi",
        "outputId": "a2be37f3-40d4-479d-d51e-e39692bbcfc4"
      },
      "source": [
        "print(y_predic[:35])\n",
        "print(y_test[:35])"
      ],
      "execution_count": 10,
      "outputs": [
        {
          "output_type": "stream",
          "text": [
            "[8 0 0 1 5 4 8 3 5 4 7 4 5 6 6 6 9 7 6 7 2 2 7 2 6 8 2 8 8 5 3 6 8 8 2]\n",
            "[8 0 0 1 5 1 8 3 9 4 7 4 5 6 6 6 9 7 6 7 2 2 7 2 6 8 2 8 8 5 3 6 8 8 2]\n"
          ],
          "name": "stdout"
        }
      ]
    },
    {
      "cell_type": "code",
      "metadata": {
        "colab": {
          "base_uri": "https://localhost:8080/",
          "height": 283
        },
        "id": "ufBhD7DAnIfk",
        "outputId": "a0868e4e-7dbb-427c-ddad-c041daeaa0a2"
      },
      "source": [
        "from sklearn.metrics import confusion_matrix\n",
        "import seaborn as sns\n",
        "cf_matrix = confusion_matrix(y_test, y_predic)\n",
        "sns.heatmap(cf_matrix, annot=True)"
      ],
      "execution_count": 11,
      "outputs": [
        {
          "output_type": "execute_result",
          "data": {
            "text/plain": [
              "<matplotlib.axes._subplots.AxesSubplot at 0x7f4564360e10>"
            ]
          },
          "metadata": {
            "tags": []
          },
          "execution_count": 11
        },
        {
          "output_type": "display_data",
          "data": {
            "image/png": "[encoded data removed]",
            "text/plain": [
              "<Figure size 432x288 with 2 Axes>"
            ]
          },
          "metadata": {
            "tags": [],
            "needs_background": "light"
          }
        }
      ]
    },
    {
      "cell_type": "code",
      "metadata": {
        "id": "m--vZBrnnIfo"
      },
      "source": [
        ""
      ],
      "execution_count": 11,
      "outputs": []
    }
  ]
}