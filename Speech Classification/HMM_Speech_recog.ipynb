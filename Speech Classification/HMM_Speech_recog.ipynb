{
  "nbformat": 4,
  "nbformat_minor": 0,
  "metadata": {
    "kernelspec": {
      "display_name": "Python 3",
      "language": "python",
      "name": "python3"
    },
    "language_info": {
      "codemirror_mode": {
        "name": "ipython",
        "version": 3
      },
      "file_extension": ".py",
      "mimetype": "text/x-python",
      "name": "python",
      "nbconvert_exporter": "python",
      "pygments_lexer": "ipython3",
      "version": "3.6.9"
    },
    "colab": {
      "name": "HMM_Speech_recog.ipynb",
      "provenance": [],
      "include_colab_link": true
    }
  },
  "cells": [
    {
      "cell_type": "markdown",
      "metadata": {
        "id": "view-in-github",
        "colab_type": "text"
      },
      "source": [
        "<a href=\"https://colab.research.google.com/github/codewithAshwani/MNIST-Speech-classification/blob/main/HMM_Speech_recog.ipynb\" target=\"_parent\"><img src=\"https://colab.research.google.com/assets/colab-badge.svg\" alt=\"Open In Colab\"/></a>"
      ]
    },
    {
      "cell_type": "code",
      "metadata": {
        "colab": {
          "base_uri": "https://localhost:8080/"
        },
        "id": "gLSwK6aqpgWi",
        "outputId": "48c9576b-46cf-4315-ef1f-8580be4d9ac9"
      },
      "source": [
        "!pip install hmmlearn"
      ],
      "execution_count": 3,
      "outputs": [
        {
          "output_type": "stream",
          "text": [
            "Requirement already satisfied: hmmlearn in /usr/local/lib/python3.7/dist-packages (0.2.5)\n",
            "Requirement already satisfied: numpy>=1.10 in /usr/local/lib/python3.7/dist-packages (from hmmlearn) (1.19.5)\n",
            "Requirement already satisfied: scipy>=0.19 in /usr/local/lib/python3.7/dist-packages (from hmmlearn) (1.4.1)\n",
            "Requirement already satisfied: scikit-learn>=0.16 in /usr/local/lib/python3.7/dist-packages (from hmmlearn) (0.22.2.post1)\n",
            "Requirement already satisfied: joblib>=0.11 in /usr/local/lib/python3.7/dist-packages (from scikit-learn>=0.16->hmmlearn) (1.0.1)\n"
          ],
          "name": "stdout"
        }
      ]
    },
    {
      "cell_type": "code",
      "metadata": {
        "id": "UgSbC6kqnJ0s"
      },
      "source": [
        "import numpy as np\n",
        "from pickle import dump\n",
        "from pickle import load\n",
        "from sklearn.preprocessing import minmax_scale\n",
        "import matplotlib.pyplot as plt\n",
        "from sklearn.model_selection import train_test_split\n",
        "from hmmlearn import hmm\n",
        "from sklearn.neural_network import BernoulliRBM\n",
        "from sklearn.preprocessing import StandardScaler\n",
        "PICKLE_PATH = \"feature.pkl\""
      ],
      "execution_count": 4,
      "outputs": []
    },
    {
      "cell_type": "code",
      "metadata": {
        "id": "P_TJKEi1nJ0u"
      },
      "source": [
        "# Class to handle all HMM related processing\n",
        "class HMMTrainer(object):\n",
        "    def __init__(self, model_name='GaussianHMM', n_components=6, cov_type='full', n_iter=500):\n",
        "        self.model_name = model_name\n",
        "        self.n_components = n_components\n",
        "        self.cov_type = cov_type\n",
        "        self.n_iter = n_iter\n",
        "        self.models = []\n",
        "\n",
        "        if self.model_name == 'GaussianHMM':\n",
        "            self.model = hmm.GaussianHMM(n_components=self.n_components, \n",
        "                    covariance_type=self.cov_type, n_iter=self.n_iter)\n",
        "        else:\n",
        "            raise TypeError('Invalid model type')\n",
        "\n",
        "    # X is a 2D numpy array where each row is 13D\n",
        "    def train(self, X):\n",
        "        np.seterr(all='ignore')\n",
        "        self.models.append(self.model.fit(X))\n",
        "\n",
        "    # Run the model on input data\n",
        "    def get_score(self, input_data):\n",
        "        return self.model.score(input_data)"
      ],
      "execution_count": 5,
      "outputs": []
    },
    {
      "cell_type": "code",
      "metadata": {
        "id": "Fx2k---YnJ0w"
      },
      "source": [
        "def load_data(data_path):\n",
        "     #Loads training dataset from data file.\n",
        "     #   :return X (ndarray)\n",
        "     #   :return y (ndarray)\n",
        "\n",
        "    data = load(open(data_path, 'rb'))\n",
        "\n",
        "    # convert lists to numpy arrays\n",
        "    X = np.array(data[\"feauture_mfcc\"])\n",
        "    y = np.array(data[\"labels\"])\n",
        "#    y.astype(int)\n",
        "\n",
        "    print(\"Data succesfully loaded!\")\n",
        "\n",
        "    return  X, y"
      ],
      "execution_count": 6,
      "outputs": []
    },
    {
      "cell_type": "code",
      "metadata": {
        "colab": {
          "base_uri": "https://localhost:8080/"
        },
        "id": "SshtvuF-nJ0x",
        "outputId": "419c52be-eb50-4a3f-8ba3-676447073482"
      },
      "source": [
        "# load data\n",
        "X, y = load_data(PICKLE_PATH)\n",
        "num=X.shape[0]\n",
        "time=X.shape[1]\n",
        "featu=X.shape[2]\n",
        "X = X.reshape(num,-1)\n",
        "X = minmax_scale(X, feature_range=(0, 1))  # 0-1 scaling# create train and test split\n",
        "X=X.reshape(num,time,-1)\n",
        "#X=X/X.max()\n",
        "X_train, X_test, y_train, y_test = train_test_split(X, y, test_size=0.1)\n",
        "print(X_train.shape,y_train.shape)"
      ],
      "execution_count": 7,
      "outputs": [
        {
          "output_type": "stream",
          "text": [
            "Data succesfully loaded!\n",
            "(2700, 55, 13) (2700,)\n"
          ],
          "name": "stdout"
        }
      ]
    },
    {
      "cell_type": "code",
      "metadata": {
        "colab": {
          "base_uri": "https://localhost:8080/",
          "height": 269
        },
        "id": "iYqCQl6xnJ0y",
        "outputId": "e09f3a40-9910-4a36-aea9-f323592f8e32"
      },
      "source": [
        "mfcc_features = X_train[2].T\n",
        "plt.matshow(mfcc_features)\n",
        "plt.title('MFCC')\n",
        "plt.colorbar()\n",
        "len(np.unique(y_train))"
      ],
      "execution_count": 8,
      "outputs": [
        {
          "output_type": "execute_result",
          "data": {
            "text/plain": [
              "10"
            ]
          },
          "metadata": {
            "tags": []
          },
          "execution_count": 8
        },
        {
          "output_type": "display_data",
          "data": {
            "image/png": "[encoded data removed]",
            "text/plain": [
              "<Figure size 1152x272.291 with 2 Axes>"
            ]
          },
          "metadata": {
            "tags": [],
            "needs_background": "light"
          }
        }
      ]
    },
    {
      "cell_type": "code",
      "metadata": {
        "colab": {
          "base_uri": "https://localhost:8080/"
        },
        "id": "kl4FaexNnJ0z",
        "outputId": "0552b9f8-7305-419b-e293-fe3649d158a1"
      },
      "source": [
        "hmm_models = []\n",
        "for i in range(len(np.unique(y_train))):\n",
        "    X = np.array([])\n",
        "    y = []\n",
        "    for X_val, y_val in zip(X_train,y_train):\n",
        "        if y_val == i:\n",
        "            if len(X) == 0:\n",
        "                X = X_val\n",
        "            else:\n",
        "                X = np.append(X, X_val, axis=0)\n",
        "            y.append(y_val)\n",
        "    print('X.shape =', X.shape,i)\n",
        "    # Train and save HMM model\n",
        "    hmm_trainer = HMMTrainer()\n",
        "    hmm_trainer.train(X)\n",
        "    hmm_models.append((hmm_trainer, i))\n",
        "    hmm_trainer = None"
      ],
      "execution_count": 9,
      "outputs": [
        {
          "output_type": "stream",
          "text": [
            "X.shape = (14850, 13) 0\n",
            "X.shape = (14905, 13) 1\n",
            "X.shape = (15345, 13) 2\n",
            "X.shape = (14960, 13) 3\n",
            "X.shape = (15125, 13) 4\n",
            "X.shape = (14190, 13) 5\n",
            "X.shape = (14795, 13) 6\n",
            "X.shape = (14960, 13) 7\n",
            "X.shape = (14630, 13) 8\n",
            "X.shape = (14740, 13) 9\n"
          ],
          "name": "stdout"
        }
      ]
    },
    {
      "cell_type": "code",
      "metadata": {
        "id": "eOgydy8onJ00"
      },
      "source": [
        "pred = []\n",
        "from sklearn.metrics import accuracy_score\n",
        "for X_val, y_val in zip(X_test,y_test):\n",
        "    # Define variables\n",
        "    score = []\n",
        "    # Iterate through all HMM models \n",
        "    for item in hmm_models:\n",
        "        hmm_model, label = item\n",
        "        score.append(hmm_model.get_score(X_val))\n",
        "    pred.append(np.argmax(score))\n",
        "    y.append(y_val)"
      ],
      "execution_count": 10,
      "outputs": []
    },
    {
      "cell_type": "code",
      "metadata": {
        "colab": {
          "base_uri": "https://localhost:8080/"
        },
        "id": "7EoAkJYknJ00",
        "outputId": "10c37e07-53da-4ad8-e107-7dea79a1f9b3"
      },
      "source": [
        "pred_result = np.array(pred)\n",
        "accuracy_score(y_test,pred)"
      ],
      "execution_count": 11,
      "outputs": [
        {
          "output_type": "execute_result",
          "data": {
            "text/plain": [
              "0.9933333333333333"
            ]
          },
          "metadata": {
            "tags": []
          },
          "execution_count": 11
        }
      ]
    },
    {
      "cell_type": "code",
      "metadata": {
        "colab": {
          "base_uri": "https://localhost:8080/",
          "height": 283
        },
        "id": "zLU7Kig6nJ01",
        "outputId": "611b61be-3722-4eff-f5d0-6120bfe8ef9b"
      },
      "source": [
        "from sklearn.metrics import confusion_matrix\n",
        "import seaborn as sns\n",
        "cf_matrix = confusion_matrix(y_test, pred)\n",
        "sns.heatmap(cf_matrix, annot=True)"
      ],
      "execution_count": 12,
      "outputs": [
        {
          "output_type": "execute_result",
          "data": {
            "text/plain": [
              "<matplotlib.axes._subplots.AxesSubplot at 0x7f0e705dfd10>"
            ]
          },
          "metadata": {
            "tags": []
          },
          "execution_count": 12
        },
        {
          "output_type": "display_data",
          "data": {
            "image/png": "[encoded data removed]",
            "text/plain": [
              "<Figure size 432x288 with 2 Axes>"
            ]
          },
          "metadata": {
            "tags": [],
            "needs_background": "light"
          }
        }
      ]
    }
  ]
}