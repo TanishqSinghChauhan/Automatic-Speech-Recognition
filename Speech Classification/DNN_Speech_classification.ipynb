{
  "nbformat": 4,
  "nbformat_minor": 0,
  "metadata": {
    "kernelspec": {
      "display_name": "Python 3",
      "language": "python",
      "name": "python3"
    },
    "language_info": {
      "codemirror_mode": {
        "name": "ipython",
        "version": 3
      },
      "file_extension": ".py",
      "mimetype": "text/x-python",
      "name": "python",
      "nbconvert_exporter": "python",
      "pygments_lexer": "ipython3",
      "version": "3.6.9"
    },
    "colab": {
      "name": "DNN_Speech_classification.ipynb",
      "provenance": [],
      "include_colab_link": true
    }
  },
  "cells": [
    {
      "cell_type": "markdown",
      "metadata": {
        "id": "view-in-github",
        "colab_type": "text"
      },
      "source": [
        "<a href=\"https://colab.research.google.com/github/codewithAshwani/MNIST-Speech-classification/blob/main/DNN_Speech_classification.ipynb\" target=\"_parent\"><img src=\"https://colab.research.google.com/assets/colab-badge.svg\" alt=\"Open In Colab\"/></a>"
      ]
    },
    {
      "cell_type": "code",
      "metadata": {
        "id": "Yjt1VQx4m_7L"
      },
      "source": [
        "import numpy as np\n",
        "from pickle import dump\n",
        "from pickle import load\n",
        "import matplotlib.pyplot as plt\n",
        "from sklearn.model_selection import train_test_split\n",
        "import tensorflow as tf\n",
        "from sklearn.preprocessing import StandardScaler\n",
        "PICKLE_PATH = \"feature.pkl\""
      ],
      "execution_count": 1,
      "outputs": []
    },
    {
      "cell_type": "code",
      "metadata": {
        "id": "kjjdXkynm_7R"
      },
      "source": [
        "def load_data(data_path):\n",
        "     #Loads training dataset from data file.\n",
        "     #   :return X (ndarray)\n",
        "     #   :return y (ndarray)\n",
        "    data = load(open(data_path, 'rb'))\n",
        "\n",
        "    # convert lists to numpy arrays\n",
        "    X = np.array(data[\"feauture_mfcc\"])\n",
        "    y = np.array(data[\"labels\"])\n",
        "#    y.astype(int)\n",
        "\n",
        "    print(\"Data succesfully loaded!\")\n",
        "\n",
        "    return  X, y"
      ],
      "execution_count": 2,
      "outputs": []
    },
    {
      "cell_type": "code",
      "metadata": {
        "colab": {
          "base_uri": "https://localhost:8080/"
        },
        "id": "l_8buRJTm_7S",
        "outputId": "3803a081-8dcf-4c30-c98d-09dcf1650de8"
      },
      "source": [
        "# load data\n",
        "X, y = load_data(PICKLE_PATH)\n",
        "\n",
        " # create train, validation and test split\n",
        "X_train, X_test, y_train, y_test = train_test_split(X, y, test_size=0.2)\n",
        "X_train, X_validation, y_train, y_validation = train_test_split(X_train, y_train, test_size=0.2)\n",
        "scaler = StandardScaler()\n",
        "X_train = scaler.fit_transform(X_train.reshape(-1, X_train.shape[-1])).reshape(X_train.shape)\n",
        "X_test = scaler.transform(X_test.reshape(-1, X_test.shape[-1])).reshape(X_test.shape)\n",
        "X_validation = scaler.transform(X_validation.reshape(-1, X_validation.shape[-1])).reshape(X_validation.shape)\n",
        "print(X_train.shape,y_train.shape)"
      ],
      "execution_count": 3,
      "outputs": [
        {
          "output_type": "stream",
          "text": [
            "Data succesfully loaded!\n",
            "(1920, 55, 13) (1920,)\n"
          ],
          "name": "stdout"
        }
      ]
    },
    {
      "cell_type": "code",
      "metadata": {
        "colab": {
          "base_uri": "https://localhost:8080/",
          "height": 269
        },
        "id": "EQaV7v1Qm_7T",
        "outputId": "2892ff80-ba1e-4d0d-9844-a81a378ec3fb"
      },
      "source": [
        "mfcc_features = X_train[2].T\n",
        "plt.matshow(mfcc_features)\n",
        "plt.title('MFCC')\n",
        "plt.colorbar()"
      ],
      "execution_count": 4,
      "outputs": [
        {
          "output_type": "execute_result",
          "data": {
            "text/plain": [
              "<matplotlib.colorbar.Colorbar at 0x7f77f4a14650>"
            ]
          },
          "metadata": {
            "tags": []
          },
          "execution_count": 4
        },
        {
          "output_type": "display_data",
          "data": {
            "image/png": "[encoded data removed]",
            "text/plain": [
              "<Figure size 1152x272.291 with 2 Axes>"
            ]
          },
          "metadata": {
            "tags": [],
            "needs_background": "light"
          }
        }
      ]
    },
    {
      "cell_type": "code",
      "metadata": {
        "colab": {
          "base_uri": "https://localhost:8080/"
        },
        "id": "z4sSEwKHm_7V",
        "outputId": "17cce199-ac99-4afb-d22c-fe8afe0b18be"
      },
      "source": [
        " # build network topology\n",
        "model = tf.keras.models.Sequential([\n",
        "    tf.keras.layers.Flatten(input_shape=(X.shape[1], X.shape[2])),\n",
        "    tf.keras.layers.Dense(256, activation='relu', kernel_regularizer=tf.keras.regularizers.l2(0.001)),\n",
        "    tf.keras.layers.Dropout(0.3),\n",
        "    tf.keras.layers.Dense(256, activation='relu', kernel_regularizer=tf.keras.regularizers.l2(0.001)),\n",
        "    tf.keras.layers.Dropout(0.3),\n",
        "    tf.keras.layers.Dense(10, activation='softmax')\n",
        "])\n",
        "# compile model\n",
        "loss = tf.keras.losses.SparseCategoricalCrossentropy()\n",
        "optim = tf.keras.optimizers.Adam(lr=0.001)\n",
        "metrics = [\"accuracy\"]\n",
        "model.compile(loss=loss, optimizer=optim, metrics=metrics)\n",
        "\n",
        "model.summary()"
      ],
      "execution_count": 5,
      "outputs": [
        {
          "output_type": "stream",
          "text": [
            "Model: \"sequential\"\n",
            "_________________________________________________________________\n",
            "Layer (type)                 Output Shape              Param #   \n",
            "=================================================================\n",
            "flatten (Flatten)            (None, 715)               0         \n",
            "_________________________________________________________________\n",
            "dense (Dense)                (None, 256)               183296    \n",
            "_________________________________________________________________\n",
            "dropout (Dropout)            (None, 256)               0         \n",
            "_________________________________________________________________\n",
            "dense_1 (Dense)              (None, 256)               65792     \n",
            "_________________________________________________________________\n",
            "dropout_1 (Dropout)          (None, 256)               0         \n",
            "_________________________________________________________________\n",
            "dense_2 (Dense)              (None, 10)                2570      \n",
            "=================================================================\n",
            "Total params: 251,658\n",
            "Trainable params: 251,658\n",
            "Non-trainable params: 0\n",
            "_________________________________________________________________\n"
          ],
          "name": "stdout"
        }
      ]
    },
    {
      "cell_type": "code",
      "metadata": {
        "colab": {
          "base_uri": "https://localhost:8080/"
        },
        "id": "6YnJwdttm_7W",
        "outputId": "02573e20-abd5-45a0-e210-8b1154027d97"
      },
      "source": [
        "# train model\n",
        "history = model.fit(X_train, y_train, validation_data=(X_validation, y_validation), batch_size=32, epochs=10, verbose=2)"
      ],
      "execution_count": 6,
      "outputs": [
        {
          "output_type": "stream",
          "text": [
            "Epoch 1/10\n",
            "60/60 - 1s - loss: 1.5612 - accuracy: 0.6953 - val_loss: 0.8506 - val_accuracy: 0.9396\n",
            "Epoch 2/10\n",
            "60/60 - 0s - loss: 0.8538 - accuracy: 0.9276 - val_loss: 0.7435 - val_accuracy: 0.9688\n",
            "Epoch 3/10\n",
            "60/60 - 0s - loss: 0.7234 - accuracy: 0.9635 - val_loss: 0.7191 - val_accuracy: 0.9625\n",
            "Epoch 4/10\n",
            "60/60 - 0s - loss: 0.6797 - accuracy: 0.9641 - val_loss: 0.6768 - val_accuracy: 0.9604\n",
            "Epoch 5/10\n",
            "60/60 - 0s - loss: 0.6218 - accuracy: 0.9797 - val_loss: 0.6296 - val_accuracy: 0.9688\n",
            "Epoch 6/10\n",
            "60/60 - 0s - loss: 0.5724 - accuracy: 0.9854 - val_loss: 0.6141 - val_accuracy: 0.9708\n",
            "Epoch 7/10\n",
            "60/60 - 0s - loss: 0.5425 - accuracy: 0.9839 - val_loss: 0.6258 - val_accuracy: 0.9646\n",
            "Epoch 8/10\n",
            "60/60 - 0s - loss: 0.5126 - accuracy: 0.9844 - val_loss: 0.5901 - val_accuracy: 0.9729\n",
            "Epoch 9/10\n",
            "60/60 - 0s - loss: 0.4813 - accuracy: 0.9891 - val_loss: 0.5216 - val_accuracy: 0.9750\n",
            "Epoch 10/10\n",
            "60/60 - 0s - loss: 0.4520 - accuracy: 0.9917 - val_loss: 0.5115 - val_accuracy: 0.9667\n"
          ],
          "name": "stdout"
        }
      ]
    },
    {
      "cell_type": "code",
      "metadata": {
        "colab": {
          "base_uri": "https://localhost:8080/",
          "height": 269
        },
        "id": "ayZjmU4Hm_7Y",
        "outputId": "87d56016-5a14-4545-ba92-b7d2bd696375"
      },
      "source": [
        "def plot_loss(history):\n",
        "    plt.plot(history.history['accuracy'], label='loss')\n",
        "    plt.plot(history.history['val_accuracy'], label='val_loss')\n",
        "    plt.ylim([0.0, 1])\n",
        "    plt.legend()\n",
        "    plt.grid(True)\n",
        "plot_loss(history)"
      ],
      "execution_count": 7,
      "outputs": [
        {
          "output_type": "display_data",
          "data": {
            "image/png": "[encoded data removed]",
            "text/plain": [
              "<Figure size 432x288 with 1 Axes>"
            ]
          },
          "metadata": {
            "tags": [],
            "needs_background": "light"
          }
        }
      ]
    },
    {
      "cell_type": "code",
      "metadata": {
        "colab": {
          "base_uri": "https://localhost:8080/"
        },
        "id": "ZaRCIc9zm_7a",
        "outputId": "27ac1093-b4c0-4157-cdcf-b8a26243ef81"
      },
      "source": [
        "score, acc = model.evaluate(X_test,y_test)\n",
        "print('Test score:', score)\n",
        "print('Test accuracy:', acc)"
      ],
      "execution_count": 8,
      "outputs": [
        {
          "output_type": "stream",
          "text": [
            "19/19 [==============================] - 0s 2ms/step - loss: 0.5083 - accuracy: 0.9733\n",
            "Test score: 0.5082686543464661\n",
            "Test accuracy: 0.9733333587646484\n"
          ],
          "name": "stdout"
        }
      ]
    },
    {
      "cell_type": "code",
      "metadata": {
        "id": "gF4hFIOym_7b"
      },
      "source": [
        "y_predic = np.argmax(model.predict(X_test), axis=1)"
      ],
      "execution_count": 9,
      "outputs": []
    },
    {
      "cell_type": "code",
      "metadata": {
        "colab": {
          "base_uri": "https://localhost:8080/"
        },
        "id": "F5HHO6u4m_7c",
        "outputId": "a436e478-bf6c-431f-8721-0ec965abd26c"
      },
      "source": [
        "print(y_predic[:35])\n",
        "print(y_test[:35])"
      ],
      "execution_count": 10,
      "outputs": [
        {
          "output_type": "stream",
          "text": [
            "[9 9 5 8 5 4 3 2 8 1 4 9 0 4 3 7 7 7 9 4 5 5 6 2 3 0 4 4 4 1 3 6 4 7 5]\n",
            "[9 9 5 8 5 4 3 2 8 1 4 9 0 4 0 7 7 7 9 4 5 9 6 2 3 0 4 4 4 1 3 6 4 7 5]\n"
          ],
          "name": "stdout"
        }
      ]
    },
    {
      "cell_type": "code",
      "metadata": {
        "colab": {
          "base_uri": "https://localhost:8080/",
          "height": 283
        },
        "id": "yAlupDDwm_7e",
        "outputId": "22df84fa-e170-4df5-93ed-c3e13b03d755"
      },
      "source": [
        "from sklearn.metrics import confusion_matrix\n",
        "import seaborn as sns\n",
        "cf_matrix = confusion_matrix(y_test, y_predic)\n",
        "sns.heatmap(cf_matrix, annot=True)"
      ],
      "execution_count": 11,
      "outputs": [
        {
          "output_type": "execute_result",
          "data": {
            "text/plain": [
              "<matplotlib.axes._subplots.AxesSubplot at 0x7f77f50b4510>"
            ]
          },
          "metadata": {
            "tags": []
          },
          "execution_count": 11
        },
        {
          "output_type": "display_data",
          "data": {
            "image/png": "[encoded data removed]",
            "text/plain": [
              "<Figure size 432x288 with 2 Axes>"
            ]
          },
          "metadata": {
            "tags": [],
            "needs_background": "light"
          }
        }
      ]
    },
    {
      "cell_type": "code",
      "metadata": {
        "id": "ipifzTYZm_7f"
      },
      "source": [
        ""
      ],
      "execution_count": 11,
      "outputs": []
    }
  ]
}