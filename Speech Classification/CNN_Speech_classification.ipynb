{
  "nbformat": 4,
  "nbformat_minor": 0,
  "metadata": {
    "kernelspec": {
      "display_name": "Python 3",
      "language": "python",
      "name": "python3"
    },
    "language_info": {
      "codemirror_mode": {
        "name": "ipython",
        "version": 3
      },
      "file_extension": ".py",
      "mimetype": "text/x-python",
      "name": "python",
      "nbconvert_exporter": "python",
      "pygments_lexer": "ipython3",
      "version": "3.6.9"
    },
    "colab": {
      "name": "CNN_Speech_classification.ipynb",
      "provenance": [],
      "collapsed_sections": [],
      "machine_shape": "hm",
      "include_colab_link": true
    },
    "accelerator": "GPU"
  },
  "cells": [
    {
      "cell_type": "markdown",
      "metadata": {
        "id": "view-in-github",
        "colab_type": "text"
      },
      "source": [
        "<a href=\"https://colab.research.google.com/github/codewithAshwani/MNIST-Speech-classification/blob/main/CNN_Speech_classification.ipynb\" target=\"_parent\"><img src=\"https://colab.research.google.com/assets/colab-badge.svg\" alt=\"Open In Colab\"/></a>"
      ]
    },
    {
      "cell_type": "code",
      "metadata": {
        "id": "q1X0GTmkjhYD"
      },
      "source": [
        "import numpy as np\n",
        "from pickle import dump\n",
        "from pickle import load\n",
        "import matplotlib.pyplot as plt\n",
        "from sklearn.model_selection import train_test_split\n",
        "import tensorflow as tf\n",
        "import tensorflow.keras as keras\n",
        "PICKLE_PATH = \"feature.pkl\""
      ],
      "execution_count": 1,
      "outputs": []
    },
    {
      "cell_type": "code",
      "metadata": {
        "id": "Vu91ZmKRjhYK"
      },
      "source": [
        "def load_data(data_path):\n",
        "     #Loads training dataset from data file.\n",
        "     #   :return X (ndarray)\n",
        "     #   :return y (ndarray)\n",
        "\n",
        "\n",
        "    data = load(open(data_path, 'rb'))\n",
        "\n",
        "\n",
        "    # convert lists to numpy arrays\n",
        "    X = np.array(data[\"feauture_mfcc\"])\n",
        "    y = np.array(data[\"labels\"])\n",
        "#    y.astype(int)\n",
        "\n",
        "    print(\"Data succesfully loaded!\")\n",
        "\n",
        "    return  X, y"
      ],
      "execution_count": 2,
      "outputs": []
    },
    {
      "cell_type": "code",
      "metadata": {
        "colab": {
          "base_uri": "https://localhost:8080/"
        },
        "id": "d9WqOSXajhYL",
        "outputId": "915a8137-1b1c-4764-9d62-312c8f92309c"
      },
      "source": [
        "# load data\n",
        "X, y = load_data(PICKLE_PATH)\n",
        "\n",
        " # create train, validation and test split\n",
        "X_train, X_test, y_train, y_test = train_test_split(X, y, test_size=0.2)\n",
        "X_train, X_validation, y_train, y_validation = train_test_split(X_train, y_train, test_size=0.2)\n",
        "# add an axis to input sets\n",
        "X_train = X_train.reshape(-1,X.shape[1],X.shape[2],1)\n",
        "X_validation = X_validation.reshape(-1,X.shape[1],X.shape[2],1)\n",
        "X_test = X_test.reshape(-1,X.shape[1],X.shape[2],1)\n",
        "print(X_train.shape,y_train.shape)"
      ],
      "execution_count": 3,
      "outputs": [
        {
          "output_type": "stream",
          "text": [
            "Data succesfully loaded!\n",
            "(1920, 55, 13, 1) (1920,)\n"
          ],
          "name": "stdout"
        }
      ]
    },
    {
      "cell_type": "code",
      "metadata": {
        "colab": {
          "base_uri": "https://localhost:8080/"
        },
        "id": "6ZZEGhTdjhYM",
        "outputId": "bd1a10d6-00b9-4ab1-e8d0-59ebccb4deb3"
      },
      "source": [
        "model = tf.keras.models.Sequential([\n",
        "    tf.keras.layers.Conv2D(32, (3,3), activation='relu', input_shape=(55, 13, 1)),\n",
        "    tf.keras.layers.MaxPooling2D(1,1),\n",
        "    tf.keras.layers.Conv2D(32, (3,3), activation='relu'),\n",
        "    tf.keras.layers.MaxPooling2D(2,2),\n",
        "    tf.keras.layers.Conv2D(64, (3,3), activation='relu'),\n",
        "    tf.keras.layers.MaxPooling2D(2,2),\n",
        "    tf.keras.layers.Flatten(),\n",
        "    tf.keras.layers.Dense(128, activation='relu', kernel_regularizer=tf.keras.regularizers.l2(0.001)),\n",
        "    tf.keras.layers.Dense(10, activation='softmax')\n",
        "])\n",
        "# compile model\n",
        "loss = tf.keras.losses.SparseCategoricalCrossentropy()\n",
        "optim = tf.keras.optimizers.Adam(lr=0.001)\n",
        "metrics = [\"accuracy\"]\n",
        "model.compile(loss=loss, optimizer=optim, metrics=metrics)\n",
        "\n",
        "model.summary()"
      ],
      "execution_count": 4,
      "outputs": [
        {
          "output_type": "stream",
          "text": [
            "Model: \"sequential\"\n",
            "_________________________________________________________________\n",
            "Layer (type)                 Output Shape              Param #   \n",
            "=================================================================\n",
            "conv2d (Conv2D)              (None, 53, 11, 32)        320       \n",
            "_________________________________________________________________\n",
            "max_pooling2d (MaxPooling2D) (None, 53, 11, 32)        0         \n",
            "_________________________________________________________________\n",
            "conv2d_1 (Conv2D)            (None, 51, 9, 32)         9248      \n",
            "_________________________________________________________________\n",
            "max_pooling2d_1 (MaxPooling2 (None, 25, 4, 32)         0         \n",
            "_________________________________________________________________\n",
            "conv2d_2 (Conv2D)            (None, 23, 2, 64)         18496     \n",
            "_________________________________________________________________\n",
            "max_pooling2d_2 (MaxPooling2 (None, 11, 1, 64)         0         \n",
            "_________________________________________________________________\n",
            "flatten (Flatten)            (None, 704)               0         \n",
            "_________________________________________________________________\n",
            "dense (Dense)                (None, 128)               90240     \n",
            "_________________________________________________________________\n",
            "dense_1 (Dense)              (None, 10)                1290      \n",
            "=================================================================\n",
            "Total params: 119,594\n",
            "Trainable params: 119,594\n",
            "Non-trainable params: 0\n",
            "_________________________________________________________________\n"
          ],
          "name": "stdout"
        }
      ]
    },
    {
      "cell_type": "code",
      "metadata": {
        "colab": {
          "base_uri": "https://localhost:8080/"
        },
        "id": "hIHvOXGUjhYO",
        "outputId": "196977ba-553d-46d6-f535-79391aeab185"
      },
      "source": [
        "# train model\n",
        "history = model.fit(X_train, y_train, validation_data=(X_validation, y_validation), batch_size=32, epochs=10, verbose=2)"
      ],
      "execution_count": 5,
      "outputs": [
        {
          "output_type": "stream",
          "text": [
            "Epoch 1/10\n",
            "60/60 - 16s - loss: 1.3647 - accuracy: 0.6161 - val_loss: 0.6503 - val_accuracy: 0.8458\n",
            "Epoch 2/10\n",
            "60/60 - 0s - loss: 0.4298 - accuracy: 0.9219 - val_loss: 0.3668 - val_accuracy: 0.9479\n",
            "Epoch 3/10\n",
            "60/60 - 0s - loss: 0.2711 - accuracy: 0.9667 - val_loss: 0.3566 - val_accuracy: 0.9521\n",
            "Epoch 4/10\n",
            "60/60 - 0s - loss: 0.2225 - accuracy: 0.9776 - val_loss: 0.5072 - val_accuracy: 0.9083\n",
            "Epoch 5/10\n",
            "60/60 - 0s - loss: 0.1963 - accuracy: 0.9896 - val_loss: 0.2743 - val_accuracy: 0.9667\n",
            "Epoch 6/10\n",
            "60/60 - 0s - loss: 0.1654 - accuracy: 0.9911 - val_loss: 0.2698 - val_accuracy: 0.9729\n",
            "Epoch 7/10\n",
            "60/60 - 0s - loss: 0.2134 - accuracy: 0.9755 - val_loss: 0.3207 - val_accuracy: 0.9583\n",
            "Epoch 8/10\n",
            "60/60 - 0s - loss: 0.1512 - accuracy: 0.9948 - val_loss: 0.2566 - val_accuracy: 0.9729\n",
            "Epoch 9/10\n",
            "60/60 - 0s - loss: 0.1654 - accuracy: 0.9880 - val_loss: 0.2484 - val_accuracy: 0.9688\n",
            "Epoch 10/10\n",
            "60/60 - 0s - loss: 0.1309 - accuracy: 0.9958 - val_loss: 0.2484 - val_accuracy: 0.9688\n"
          ],
          "name": "stdout"
        }
      ]
    },
    {
      "cell_type": "code",
      "metadata": {
        "colab": {
          "base_uri": "https://localhost:8080/",
          "height": 269
        },
        "id": "gZW7snBIjhYP",
        "outputId": "0e8d7855-1534-45d0-9a3b-e55229af90e0"
      },
      "source": [
        "def plot_loss(history):\n",
        "    plt.plot(history.history['accuracy'], label='loss')\n",
        "    plt.plot(history.history['val_accuracy'], label='val_loss')\n",
        "    plt.ylim([0.0, 1])\n",
        "    plt.legend()\n",
        "    plt.grid(True)\n",
        "plot_loss(history)"
      ],
      "execution_count": 6,
      "outputs": [
        {
          "output_type": "display_data",
          "data": {
            "image/png": "[encoded data removed]",
            "text/plain": [
              "<Figure size 432x288 with 1 Axes>"
            ]
          },
          "metadata": {
            "tags": [],
            "needs_background": "light"
          }
        }
      ]
    },
    {
      "cell_type": "code",
      "metadata": {
        "colab": {
          "base_uri": "https://localhost:8080/"
        },
        "id": "FKefMJARjhYQ",
        "outputId": "32032df5-a096-45cb-dad9-1a8dcf6ed1c5"
      },
      "source": [
        "score, acc = model.evaluate(X_test,y_test)\n",
        "print('Test score:', score)\n",
        "print('Test accuracy:', acc)"
      ],
      "execution_count": 7,
      "outputs": [
        {
          "output_type": "stream",
          "text": [
            "19/19 [==============================] - 0s 3ms/step - loss: 0.1914 - accuracy: 0.9783\n",
            "Test score: 0.1914069801568985\n",
            "Test accuracy: 0.9783333539962769\n"
          ],
          "name": "stdout"
        }
      ]
    },
    {
      "cell_type": "code",
      "metadata": {
        "id": "g4HntQCvjhYR"
      },
      "source": [
        "y_predic = np.argmax(model.predict(X_test), axis=1)"
      ],
      "execution_count": 8,
      "outputs": []
    },
    {
      "cell_type": "code",
      "metadata": {
        "colab": {
          "base_uri": "https://localhost:8080/"
        },
        "id": "PQMkmmpEjhYS",
        "outputId": "3a663fb4-61c6-424d-c7a6-137c9ac3c226"
      },
      "source": [
        "print(y_predic[:35])\n",
        "print(y_test[:35])"
      ],
      "execution_count": 9,
      "outputs": [
        {
          "output_type": "stream",
          "text": [
            "[2 0 7 2 9 1 3 4 3 6 2 9 6 6 5 1 8 4 2 0 6 6 2 2 4 7 3 4 5 5 4 8 7 8 5]\n",
            "[2 0 7 2 9 1 3 4 3 6 2 9 6 6 5 1 8 4 2 0 6 6 2 2 4 7 3 4 5 5 4 8 9 8 5]\n"
          ],
          "name": "stdout"
        }
      ]
    },
    {
      "cell_type": "code",
      "metadata": {
        "colab": {
          "base_uri": "https://localhost:8080/",
          "height": 283
        },
        "id": "AoY9hpUujhYT",
        "outputId": "cca2b179-ba9b-4230-b9af-79284ee9c7a3"
      },
      "source": [
        "from sklearn.metrics import confusion_matrix\n",
        "import seaborn as sns\n",
        "cf_matrix = confusion_matrix(y_test, y_predic)\n",
        "sns.heatmap(cf_matrix, annot=True)"
      ],
      "execution_count": 10,
      "outputs": [
        {
          "output_type": "execute_result",
          "data": {
            "text/plain": [
              "<matplotlib.axes._subplots.AxesSubplot at 0x7f5e75e06e50>"
            ]
          },
          "metadata": {
            "tags": []
          },
          "execution_count": 10
        },
        {
          "output_type": "display_data",
          "data": {
            "image/png": "[encoded data removed]",
            "text/plain": [
              "<Figure size 432x288 with 2 Axes>"
            ]
          },
          "metadata": {
            "tags": [],
            "needs_background": "light"
          }
        }
      ]
    }
  ]
}