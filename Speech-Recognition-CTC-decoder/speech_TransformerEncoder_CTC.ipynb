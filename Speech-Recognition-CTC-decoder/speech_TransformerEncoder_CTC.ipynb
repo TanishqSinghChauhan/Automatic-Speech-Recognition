{
  "nbformat": 4,
  "nbformat_minor": 0,
  "metadata": {
    "accelerator": "GPU",
    "colab": {
      "name": "speech_TransformerEncoder_CTC.ipynb",
      "provenance": [],
      "collapsed_sections": [],
      "machine_shape": "hm",
      "include_colab_link": true
    },
    "kernelspec": {
      "display_name": "Python 3",
      "language": "python",
      "name": "python3"
    },
    "language_info": {
      "codemirror_mode": {
        "name": "ipython",
        "version": 3
      },
      "file_extension": ".py",
      "mimetype": "text/x-python",
      "name": "python",
      "nbconvert_exporter": "python",
      "pygments_lexer": "ipython3",
      "version": "3.6.9"
    }
  },
  "cells": [
    {
      "cell_type": "markdown",
      "metadata": {
        "id": "view-in-github",
        "colab_type": "text"
      },
      "source": [
        "<a href=\"https://colab.research.google.com/github/codewithAshwani/Speech-Recognition-CTC-decoder/blob/main/speech_TransformerEncoder_CTC.ipynb\" target=\"_parent\"><img src=\"https://colab.research.google.com/assets/colab-badge.svg\" alt=\"Open In Colab\"/></a>"
      ]
    },
    {
      "cell_type": "code",
      "metadata": {
        "id": "wvEC6aZj0x3I"
      },
      "source": [
        "import matplotlib.pyplot as plt\n",
        "import numpy as np\n",
        "import os\n",
        "import numpy as np\n",
        "import matplotlib.pyplot as plt\n",
        "import time\n",
        "import numpy\n",
        "from pickle import dump\n",
        "from pickle import load\n",
        "import tensorflow as tf\n",
        "import keras\n",
        "from sklearn.model_selection import train_test_split\n",
        "from tensorflow.keras.layers import Dense, Activation, Bidirectional, Reshape\n",
        "from tensorflow.keras.layers import Conv2D, MaxPooling2D,TimeDistributed, LSTM"
      ],
      "execution_count": null,
      "outputs": []
    },
    {
      "cell_type": "code",
      "metadata": {
        "id": "V603m2ck2FpC"
      },
      "source": [
        "pickle_path = 'feature.pkl'"
      ],
      "execution_count": null,
      "outputs": []
    },
    {
      "cell_type": "code",
      "metadata": {
        "colab": {
          "base_uri": "https://localhost:8080/"
        },
        "id": "F9tznL2X4m5u",
        "outputId": "ad967192-0c80-4a2f-addb-0d36bdc51595"
      },
      "source": [
        "from self_attention_encoder import Encoder"
      ],
      "execution_count": null,
      "outputs": [
        {
          "output_type": "stream",
          "text": [
            "/content/drive/MyDrive/Colab Notebooks/Speech_MNIST_Recognition\n"
          ],
          "name": "stdout"
        }
      ]
    },
    {
      "cell_type": "code",
      "metadata": {
        "id": "e5XFfdG20x3L"
      },
      "source": [
        "def load_features(filename):\n",
        "    data = load(open(filename, 'rb'))\n",
        "\n",
        "    x = data[\"feauture_mfcc\"]\n",
        "    y = data[\"mapping\"]\n",
        "    return x,y"
      ],
      "execution_count": null,
      "outputs": []
    },
    {
      "cell_type": "code",
      "metadata": {
        "id": "cOxTjWDR0x3R"
      },
      "source": [
        "x,y = load_features(pickle_path)"
      ],
      "execution_count": null,
      "outputs": []
    },
    {
      "cell_type": "code",
      "metadata": {
        "colab": {
          "base_uri": "https://localhost:8080/"
        },
        "id": "WHVu4gP_0x3T",
        "outputId": "ca2955e7-9bc4-4996-d5f0-d0a03f0d17b1"
      },
      "source": [
        "max_length = max([len(label) for label in y])\n",
        "max_length"
      ],
      "execution_count": null,
      "outputs": [
        {
          "output_type": "execute_result",
          "data": {
            "text/plain": [
              "5"
            ]
          },
          "metadata": {
            "tags": []
          },
          "execution_count": 202
        }
      ]
    },
    {
      "cell_type": "code",
      "metadata": {
        "id": "knqXx7dU33SR"
      },
      "source": [
        "# padding of words which are smaller than max_length, with character '<unk>'\n",
        "y_padded = []\n",
        "for i in range(len(y)):\n",
        "  val = list(y[i])\n",
        "  while len(val)<(max_length):\n",
        "    val.append('<unk>')\n",
        "  y_padded.append(val)\n",
        "# characters in label\n",
        "characters = set(char for label in y for char in label)\n",
        "# dictionary for tokenization of charaters \n",
        "char_to_num = dict(zip(sorted(characters) + ['<unk>'], list(range(len(characters) + 1))))\n",
        "num_to_char = {v:k for k,v in char_to_num.items()}\n",
        "# convert characters to integer token \n",
        "y2=[]\n",
        "for label in y_padded:\n",
        "  y2.append([char_to_num[i] for i in label])"
      ],
      "execution_count": null,
      "outputs": []
    },
    {
      "cell_type": "code",
      "metadata": {
        "colab": {
          "base_uri": "https://localhost:8080/"
        },
        "id": "et88lQdW37rh",
        "outputId": "baffd553-9abe-4a12-aede-65dc350b5830"
      },
      "source": [
        "len(characters)"
      ],
      "execution_count": null,
      "outputs": [
        {
          "output_type": "execute_result",
          "data": {
            "text/plain": [
              "15"
            ]
          },
          "metadata": {
            "tags": []
          },
          "execution_count": 204
        }
      ]
    },
    {
      "cell_type": "code",
      "metadata": {
        "colab": {
          "base_uri": "https://localhost:8080/",
          "height": 35
        },
        "id": "nkGRaYwl39yS",
        "outputId": "898cfab4-5de1-446a-e659-d3edfced7ac2"
      },
      "source": [
        "''.join([num_to_char[i] for i in y2[-1]])"
      ],
      "execution_count": null,
      "outputs": [
        {
          "output_type": "execute_result",
          "data": {
            "application/vnd.google.colaboratory.intrinsic+json": {
              "type": "string"
            },
            "text/plain": [
              "'zero<unk>'"
            ]
          },
          "metadata": {
            "tags": []
          },
          "execution_count": 205
        }
      ]
    },
    {
      "cell_type": "code",
      "metadata": {
        "colab": {
          "base_uri": "https://localhost:8080/"
        },
        "id": "gGuZ1nM80x3V",
        "outputId": "43922e39-92b3-408f-d6e6-df0eb692980f"
      },
      "source": [
        "x = np.asarray(x)\n",
        "x = x.reshape(-1,x.shape[1],x.shape[2],1)\n",
        "width = x.shape[1]\n",
        "height = x.shape[2]\n",
        "width,height"
      ],
      "execution_count": null,
      "outputs": [
        {
          "output_type": "execute_result",
          "data": {
            "text/plain": [
              "(55, 13)"
            ]
          },
          "metadata": {
            "tags": []
          },
          "execution_count": 206
        }
      ]
    },
    {
      "cell_type": "code",
      "metadata": {
        "id": "yb10nGHb0x3W"
      },
      "source": [
        "# Split the data\n",
        "x_train, x_valid, y_train, y_valid = train_test_split(x, np.asarray(y2), test_size=0.01, shuffle= True)"
      ],
      "execution_count": null,
      "outputs": []
    },
    {
      "cell_type": "code",
      "metadata": {
        "colab": {
          "base_uri": "https://localhost:8080/"
        },
        "id": "5ye9emHk0x3X",
        "outputId": "cecbaed1-4997-409b-d6e0-2f345013b429"
      },
      "source": [
        "x_train.shape, y_train.shape, x_valid.shape"
      ],
      "execution_count": null,
      "outputs": [
        {
          "output_type": "execute_result",
          "data": {
            "text/plain": [
              "((2970, 55, 13, 1), (2970, 5), (30, 55, 13, 1))"
            ]
          },
          "metadata": {
            "tags": []
          },
          "execution_count": 208
        }
      ]
    },
    {
      "cell_type": "code",
      "metadata": {
        "id": "D3BFLMiA0x3Y"
      },
      "source": [
        "BUFFER_SIZE = x_train.shape[0]\n",
        "BATCH_SIZE = 16\n",
        "steps_per_epoch = x_train.shape[0]//BATCH_SIZE\n",
        "beam_widt = 3\n",
        "\n",
        "dataset = tf.data.Dataset.from_tensor_slices((x_train, y_train)).shuffle(BUFFER_SIZE)\n",
        "dataset = dataset.batch(BATCH_SIZE, drop_remainder=True)"
      ],
      "execution_count": null,
      "outputs": []
    },
    {
      "cell_type": "code",
      "metadata": {
        "id": "3N9yLfH70x3Z"
      },
      "source": [
        "BUFFER_SIZE_TEST = x_valid.shape[0]\n",
        "dataset_test = tf.data.Dataset.from_tensor_slices((x_valid, y_valid)).shuffle(BUFFER_SIZE_TEST)\n",
        "dataset_test = dataset_test.batch(1)"
      ],
      "execution_count": null,
      "outputs": []
    },
    {
      "cell_type": "code",
      "metadata": {
        "colab": {
          "base_uri": "https://localhost:8080/"
        },
        "id": "w77kby3AFnmr",
        "outputId": "87ec58c9-334b-4717-d604-8dc64a454a9e"
      },
      "source": [
        "for example_x,example_y in dataset:\n",
        "  print(example_x.shape, example_y.shape)\n",
        "  break"
      ],
      "execution_count": null,
      "outputs": [
        {
          "output_type": "stream",
          "text": [
            "(16, 55, 13, 1) (16, 5)\n"
          ],
          "name": "stdout"
        }
      ]
    },
    {
      "cell_type": "code",
      "metadata": {
        "id": "CecZ9GhqGKkP"
      },
      "source": [
        "class CNN_Feature(tf.keras.layers.Layer):\n",
        "    def __init__(self, img_width, img_height):\n",
        "        super(CNN_Feature, self).__init__()\n",
        "        self.img_width = img_width\n",
        "        self.img_height = img_height\n",
        "\n",
        "        self.Conv2D1 = Conv2D(32,(3, 3), activation=\"relu\", kernel_initializer=\"he_normal\", padding=\"same\", name=\"Conv1\")\n",
        "        self.MaxPooling2D1 = MaxPooling2D((2, 2), name=\"pool1\")\n",
        "        self.Conv2D2 = Conv2D(64,(3, 3), activation=\"relu\", kernel_initializer=\"he_normal\", padding=\"same\", name=\"Conv2\")\n",
        "        self.MaxPooling2D2 = MaxPooling2D((2, 2), name=\"pool2\")\n",
        "\n",
        "        self.Reshape= Reshape(target_shape=((self.img_width // 4), (self.img_height // 4) * 64), name=\"reshape\")\n",
        "        self.Dense=Dense(64, activation=\"relu\", name=\"dense1\")\n",
        "\n",
        "    def call(self, x):\n",
        "        x = self.Conv2D1(x)\n",
        "        x = self.MaxPooling2D1(x)\n",
        "        x = self.Conv2D2(x)\n",
        "        x = self.MaxPooling2D2(x)\n",
        "        x = self.Reshape(x)\n",
        "        output = self.Dense(x)\n",
        "        return output"
      ],
      "execution_count": null,
      "outputs": []
    },
    {
      "cell_type": "code",
      "metadata": {
        "colab": {
          "base_uri": "https://localhost:8080/"
        },
        "id": "SXv_eiVNGal5",
        "outputId": "64a9c4b3-dda5-49a2-9454-5c7132469888"
      },
      "source": [
        "Feature =  CNN_Feature(width,height)\n",
        "output = Feature(example_x)\n",
        "embed_size = output.shape[2]\n",
        "heads      = 4\n",
        "forward_expansion = embed_size*4\n",
        "num_layers = 6\n",
        "max_lengthn = 128\n",
        "rate=0.1\n",
        "output.shape, embed_size"
      ],
      "execution_count": null,
      "outputs": [
        {
          "output_type": "execute_result",
          "data": {
            "text/plain": [
              "(TensorShape([16, 13, 64]), 64)"
            ]
          },
          "metadata": {
            "tags": []
          },
          "execution_count": 213
        }
      ]
    },
    {
      "cell_type": "code",
      "metadata": {
        "id": "w88QsdKGHhUH"
      },
      "source": [
        "class Self_Attention(tf.keras.Model):\n",
        "      def __init__(self, num_layers, embed_size, heads, forward_expansion, max_length, rate, characters, img_width, img_height):\n",
        "        super(Self_Attention, self).__init__()\n",
        "        self.CNNfeature = CNN_Feature(img_width, img_height)\n",
        "\n",
        "        self.Encodere = Encoder(num_layers, embed_size, heads, forward_expansion, max_length, rate)\n",
        "        self.Dense1 = TimeDistributed(Dense(len(characters)+1, name=\"dense2\"))\n",
        "        self.Dense2 = TimeDistributed(Activation('softmax'), name='softmax')\n",
        "\n",
        "\n",
        "      def call(self, x, training):\n",
        "        inp = self.CNNfeature(x)\n",
        "\n",
        "        enc_output = self.Encodere(inp, training, mask=None)\n",
        "        x = self.Dense1(enc_output)\n",
        "        output = self.Dense2(x)\n",
        "        return output"
      ],
      "execution_count": null,
      "outputs": []
    },
    {
      "cell_type": "code",
      "metadata": {
        "colab": {
          "base_uri": "https://localhost:8080/"
        },
        "id": "JlEcf9S4Hjgv",
        "outputId": "efee40bc-f277-4793-8a98-e731208f452c"
      },
      "source": [
        "Self_Attention=Self_Attention(num_layers, embed_size, heads, forward_expansion, max_lengthn, rate, characters, width, height)\n",
        "outputx = Self_Attention(example_x)\n",
        "outputx.shape"
      ],
      "execution_count": null,
      "outputs": [
        {
          "output_type": "execute_result",
          "data": {
            "text/plain": [
              "TensorShape([16, 13, 16])"
            ]
          },
          "metadata": {
            "tags": []
          },
          "execution_count": 215
        }
      ]
    },
    {
      "cell_type": "code",
      "metadata": {
        "id": "0krO-ERfPyNL"
      },
      "source": [
        "class CustomSchedule(tf.keras.optimizers.schedules.LearningRateSchedule):\n",
        "  def __init__(self, d_model, warmup_steps=1500, stw=-1.2):\n",
        "    super(CustomSchedule, self).__init__()\n",
        "\n",
        "    self.d_model = d_model\n",
        "    self.d_model = tf.cast(self.d_model, tf.float32)\n",
        "    self.stw = stw\n",
        "\n",
        "    self.warmup_steps = warmup_steps\n",
        "\n",
        "  def __call__(self, step):\n",
        "    arg1 = tf.math.rsqrt(step)\n",
        "    arg2 = step * (self.warmup_steps ** self.stw)\n",
        "\n",
        "    return tf.math.rsqrt(self.d_model) * tf.math.minimum(arg1, arg2)\n",
        "learning_rate = CustomSchedule(6000, warmup_steps=1500, stw =-1.2)\n",
        "\n",
        "optimizer = tf.keras.optimizers.Adam(learning_rate, beta_1=0.9, beta_2=0.98,\n",
        "                                     epsilon=1e-9)"
      ],
      "execution_count": null,
      "outputs": []
    },
    {
      "cell_type": "code",
      "metadata": {
        "id": "p9ptxULlH4aQ"
      },
      "source": [
        "def CTC_loss(y_true, y_pred):\n",
        "\n",
        "    batch_len = tf.cast(tf.shape(y_true)[0], dtype=\"int64\")\n",
        "    input_length = tf.cast(tf.shape(y_pred)[1], dtype=\"int64\")\n",
        "    label_length = tf.cast(tf.shape(y_true)[1], dtype=\"int64\")\n",
        "\n",
        "    input_length = input_length * tf.ones(shape=(batch_len, 1), dtype=\"int64\")\n",
        "    label_length = label_length * tf.ones(shape=(batch_len, 1), dtype=\"int64\")\n",
        "\n",
        "    loss = tf.keras.backend.ctc_batch_cost(y_true, y_pred, input_length, label_length)\n",
        "    \n",
        "    return loss"
      ],
      "execution_count": null,
      "outputs": []
    },
    {
      "cell_type": "code",
      "metadata": {
        "id": "IkjpSy8a0x3c"
      },
      "source": [
        "@tf.function\n",
        "def train_step(x_batch_train, y_batch_train):\n",
        "    loss = 0\n",
        "    with tf.GradientTape() as tape:\n",
        "        output = Self_Attention(x_batch_train, True) \n",
        "        output = CTC_loss(y_batch_train, output)\n",
        "        loss = tf.math.reduce_mean(output)\n",
        "    batch_loss = (loss / y_batch_train.shape[1])   \n",
        "    variables = Self_Attention.trainable_variables\n",
        "    gradients = tape.gradient(loss, variables)\n",
        "    optimizer.apply_gradients(zip(gradients, variables))\n",
        "\n",
        "    return batch_loss"
      ],
      "execution_count": null,
      "outputs": []
    },
    {
      "cell_type": "code",
      "metadata": {
        "colab": {
          "base_uri": "https://localhost:8080/"
        },
        "id": "rILi7Jsl0x3d",
        "outputId": "64dc65f2-e8e3-4e16-fb05-622d6bcc1e43"
      },
      "source": [
        "EPOCHS = 500\n",
        "history = {\n",
        "  \"epoch\": [],\n",
        "  \"loss\": []  \n",
        "}\n",
        "for epoch in range(EPOCHS):\n",
        "    start = time.time()\n",
        "    total_loss = 0\n",
        "    for step, (x_batch_train, y_batch_train) in enumerate(dataset):\n",
        "        batch_loss = train_step(x_batch_train, y_batch_train)\n",
        "        total_loss += batch_loss\n",
        "    history['epoch'].append(epoch)\n",
        "    history['loss'].append(total_loss)\n",
        "    if (epoch + 1) % 50 == 0:\n",
        "       print(f'Epoch {epoch+1} Loss {total_loss:.4f}')\n",
        "       print(f'Time taken for 1 epoch {time.time()-start:.2f} sec\\n')"
      ],
      "execution_count": null,
      "outputs": [
        {
          "output_type": "stream",
          "text": [
            "Epoch 50 Loss 21.2547\n",
            "Time taken for 1 epoch 3.48 sec\n",
            "\n",
            "Epoch 100 Loss 8.7620\n",
            "Time taken for 1 epoch 3.47 sec\n",
            "\n",
            "Epoch 150 Loss 6.0551\n",
            "Time taken for 1 epoch 3.45 sec\n",
            "\n",
            "Epoch 200 Loss 4.8886\n",
            "Time taken for 1 epoch 3.45 sec\n",
            "\n",
            "Epoch 250 Loss 3.1500\n",
            "Time taken for 1 epoch 3.49 sec\n",
            "\n",
            "Epoch 300 Loss 2.5451\n",
            "Time taken for 1 epoch 3.43 sec\n",
            "\n",
            "Epoch 350 Loss 2.5719\n",
            "Time taken for 1 epoch 3.42 sec\n",
            "\n",
            "Epoch 400 Loss 2.2106\n",
            "Time taken for 1 epoch 3.52 sec\n",
            "\n",
            "Epoch 450 Loss 1.8416\n",
            "Time taken for 1 epoch 3.54 sec\n",
            "\n",
            "Epoch 500 Loss 1.2071\n",
            "Time taken for 1 epoch 3.66 sec\n",
            "\n"
          ],
          "name": "stdout"
        }
      ]
    },
    {
      "cell_type": "code",
      "metadata": {
        "colab": {
          "base_uri": "https://localhost:8080/",
          "height": 336
        },
        "id": "qFIMhI9NIwI6",
        "outputId": "a2650456-0be6-4e70-f93a-1c87bbbe4d79"
      },
      "source": [
        "plt.figure(figsize=(8,5))\n",
        "plt.yscale(\"log\")\n",
        "plt.plot(history[\"epoch\"],history[\"loss\"], label='loss')\n",
        "plt.title('Training loss')\n",
        "plt.legend(loc='best')\n",
        "plt.show()"
      ],
      "execution_count": null,
      "outputs": [
        {
          "output_type": "display_data",
          "data": {
            "image/png": "[encoded data removed]",
            "text/plain": [
              "<Figure size 576x360 with 1 Axes>"
            ]
          },
          "metadata": {
            "tags": [],
            "needs_background": "light"
          }
        }
      ]
    },
    {
      "cell_type": "code",
      "metadata": {
        "id": "uAKYwgxV0x3e"
      },
      "source": [
        "def greedy_predictions(pred):\n",
        "    input_len = np.ones(pred.shape[0]) * pred.shape[1]\n",
        "    # Use greedy search. For complex tasks, you can use beam search\n",
        "    results = tf.keras.backend.ctc_decode(pred, input_length=input_len, greedy=True)[0][0][\n",
        "        :, :max_length\n",
        "    ]\n",
        "    # Iterate over the results and get back the text\n",
        "    resultn = np.array([i for i in tf.reshape(results, [max_length]).numpy() if i!=-1]) \n",
        "    output_text = ''.join([num_to_char[i] for i in resultn])\n",
        "    output_text = ' '.join(output_text.split(\"|\"))\n",
        "    return output_text"
      ],
      "execution_count": null,
      "outputs": []
    },
    {
      "cell_type": "code",
      "metadata": {
        "colab": {
          "base_uri": "https://localhost:8080/"
        },
        "id": "7nyN9WMJ0x3f",
        "outputId": "62f2b929-81fe-4f3c-b2a7-6e6898c6a5bc"
      },
      "source": [
        "for i, (x_batch_test, y_batch_test) in enumerate(dataset_test):\n",
        "    preds = Self_Attention(x_batch_test, False)\n",
        "    pred_texts = greedy_predictions(preds)\n",
        "    y_batch = np.array([i for i in tf.reshape(y_batch_test, [max_length]).numpy() if i != (len(characters))]) \n",
        "    label_true = ''.join([num_to_char[i] for i in y_batch])\n",
        "    label_true = ' '.join(label_true.split(\"|\"))\n",
        "    print(f\"\\nActual :  {label_true},    Predicted :  {pred_texts}\")   "
      ],
      "execution_count": null,
      "outputs": [
        {
          "output_type": "stream",
          "text": [
            "\n",
            "Actual :  two,    Predicted :  two\n",
            "\n",
            "Actual :  eight,    Predicted :  eight\n",
            "\n",
            "Actual :  four,    Predicted :  four\n",
            "\n",
            "Actual :  nine,    Predicted :  nine\n",
            "\n",
            "Actual :  four,    Predicted :  fouru\n",
            "\n",
            "Actual :  six,    Predicted :  six\n",
            "\n",
            "Actual :  three,    Predicted :  three\n",
            "\n",
            "Actual :  three,    Predicted :  three\n",
            "\n",
            "Actual :  four,    Predicted :  four\n",
            "\n",
            "Actual :  one,    Predicted :  one\n",
            "\n",
            "Actual :  four,    Predicted :  four\n",
            "\n",
            "Actual :  two,    Predicted :  two\n",
            "\n",
            "Actual :  one,    Predicted :  one\n",
            "\n",
            "Actual :  six,    Predicted :  six\n",
            "\n",
            "Actual :  six,    Predicted :  six\n",
            "\n",
            "Actual :  two,    Predicted :  two\n",
            "\n",
            "Actual :  eight,    Predicted :  eight\n",
            "\n",
            "Actual :  nine,    Predicted :  nine\n",
            "\n",
            "Actual :  six,    Predicted :  six\n",
            "\n",
            "Actual :  five,    Predicted :  five\n",
            "\n",
            "Actual :  two,    Predicted :  two\n",
            "\n",
            "Actual :  six,    Predicted :  si\n",
            "\n",
            "Actual :  eight,    Predicted :  eight\n",
            "\n",
            "Actual :  six,    Predicted :  six\n",
            "\n",
            "Actual :  three,    Predicted :  three\n",
            "\n",
            "Actual :  five,    Predicted :  five\n",
            "\n",
            "Actual :  one,    Predicted :  one\n",
            "\n",
            "Actual :  seven,    Predicted :  seven\n",
            "\n",
            "Actual :  seven,    Predicted :  seven\n",
            "\n",
            "Actual :  two,    Predicted :  two\n"
          ],
          "name": "stdout"
        }
      ]
    },
    {
      "cell_type": "code",
      "metadata": {
        "id": "9IWmUYSE0x3g"
      },
      "source": [
        ""
      ],
      "execution_count": null,
      "outputs": []
    }
  ]
}